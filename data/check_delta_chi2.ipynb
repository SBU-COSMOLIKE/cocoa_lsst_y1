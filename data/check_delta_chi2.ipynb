{
 "cells": [
  {
   "cell_type": "code",
   "execution_count": 1,
   "metadata": {},
   "outputs": [],
   "source": [
    "import numpy as np\n",
    "import matplotlib.pyplot as plt"
   ]
  },
  {
   "cell_type": "code",
   "execution_count": 27,
   "metadata": {},
   "outputs": [],
   "source": [
    "# Load covariance matrix\n",
    "cov_data = np.loadtxt(\"lsst_y1_cov\")\n",
    "# Parsing cov data\n",
    "dv_length = 1560//2\n",
    "cov = np.zeros((dv_length, dv_length))\n",
    "for line in cov_data:\n",
    "    i = int(line[0])\n",
    "    j = int(line[1])\n",
    "    if i < dv_length and j < dv_length:\n",
    "        cov[i,j] = line[8] + line[9]\n",
    "        cov[j,i] = cov[i,j]\n",
    "invcov = np.linalg.inv(cov)\n",
    "# Loading angular scale cuts\n",
    "masks = {}\n",
    "for i in range(1, 7):\n",
    "    masks[i]= np.loadtxt(f\"lsst_y1_M{i}_GGLOLAP0.05.mask\", unpack=True, usecols=(1,), )[:dv_length]"
   ]
  },
  {
   "cell_type": "code",
   "execution_count": 6,
   "metadata": {},
   "outputs": [],
   "source": [
    "def compute_delta_chi2(cosmo=\"desi2cmbpanplus\", mask=None):\n",
    "    cola_dv = np.loadtxt(f\"cola_{cosmo}.modelvector\", usecols=1, max_rows=780)\n",
    "    ee2_dv = np.loadtxt(f\"ee2_{cosmo}.modelvector\", usecols=1, max_rows=780)\n",
    "    diff = cola_dv - ee2_dv\n",
    "    # Compute chi-squared\n",
    "    if mask is not None: diff = diff*mask\n",
    "    chi2 = np.dot(diff, np.dot(invcov, diff))\n",
    "    print(f\"Cosmology {cosmo}: \\Delta \\chi^2 = {chi2}\")"
   ]
  },
  {
   "cell_type": "code",
   "execution_count": 7,
   "metadata": {},
   "outputs": [
    {
     "name": "stdout",
     "output_type": "stream",
     "text": [
      "Cosmology ee2ref: \\Delta \\chi^2 = 0.0006632988021168517\n",
      "Cosmology desi2cmbpanplus: \\Delta \\chi^2 = 3.279578382006987\n"
     ]
    }
   ],
   "source": [
    "compute_delta_chi2(\"ee2ref\")\n",
    "compute_delta_chi2(\"desi2cmbpanplus\")"
   ]
  },
  {
   "cell_type": "markdown",
   "metadata": {},
   "source": [
    "Lesson: at EE2REF cosmology, $\\Delta\\chi^2 = 6\\times 10^{-4}$. We need to focus on cosmologies away from LCDM!"
   ]
  },
  {
   "cell_type": "code",
   "execution_count": 60,
   "metadata": {},
   "outputs": [
    {
     "name": "stdout",
     "output_type": "stream",
     "text": [
      "Cosmology Omega_mhi_whi_walow: \\Delta \\chi^2 = 0.05436969535438241\n",
      "Cosmology Omega_mhi_wlow_wahi: \\Delta \\chi^2 = 0.22727838256242722\n",
      "Cosmology Omega_mhi_whi_wahi: \\Delta \\chi^2 = 0.2850700654358556\n",
      "Cosmology Omega_mhi_wlow_walow: \\Delta \\chi^2 = 1.7386956651423753\n",
      "-----\n",
      "Cosmology Omega_mlow_whi_walow: \\Delta \\chi^2 = 0.05207104182883727\n",
      "Cosmology Omega_mlow_wlow_wahi: \\Delta \\chi^2 = 0.03145366740101016\n",
      "Cosmology Omega_mlow_whi_wahi: \\Delta \\chi^2 = 0.9796903081134208\n",
      "Cosmology Omega_mlow_wlow_walow: \\Delta \\chi^2 = 0.23596001051025342\n",
      "-----\n",
      "Cosmology Ashi_whi_walow: \\Delta \\chi^2 = 0.048417490862251215\n",
      "Cosmology Ashi_wlow_wahi: \\Delta \\chi^2 = 0.06723531417252787\n",
      "Cosmology Ashi_whi_wahi: \\Delta \\chi^2 = 0.6182426475500158\n",
      "Cosmology Ashi_wlow_walow: \\Delta \\chi^2 = 0.7149758766430461\n",
      "-----\n",
      "Cosmology Aslow_whi_walow: \\Delta \\chi^2 = 0.017114255712461494\n",
      "Cosmology Aslow_wlow_wahi: \\Delta \\chi^2 = 0.019527862771323984\n",
      "Cosmology Aslow_whi_wahi: \\Delta \\chi^2 = 0.26159373256426643\n",
      "Cosmology Aslow_wlow_walow: \\Delta \\chi^2 = 0.20162935889610994\n",
      "-----\n",
      "Cosmology nshi_whi_walow: \\Delta \\chi^2 = 0.01732657344286572\n",
      "Cosmology nshi_wlow_wahi: \\Delta \\chi^2 = 0.030887430381442472\n",
      "Cosmology nshi_whi_wahi: \\Delta \\chi^2 = 0.12125878279217556\n",
      "Cosmology nshi_wlow_walow: \\Delta \\chi^2 = 0.16407362207711512\n",
      "-----\n",
      "Cosmology nslow_whi_walow: \\Delta \\chi^2 = 0.039100551431646105\n",
      "Cosmology nslow_wlow_wahi: \\Delta \\chi^2 = 0.03944705955463674\n",
      "Cosmology nslow_whi_wahi: \\Delta \\chi^2 = 0.9491746681501297\n",
      "Cosmology nslow_wlow_walow: \\Delta \\chi^2 = 0.6239169089485985\n",
      "-----\n"
     ]
    }
   ],
   "source": [
    "for param in [\"Omega_m\", \"As\", \"ns\"]:\n",
    "    for param_variation in [\"hi\", \"low\"]:\n",
    "        compute_delta_chi2(f\"{param}{param_variation}_whi_walow\",  mask=masks[3])\n",
    "        compute_delta_chi2(f\"{param}{param_variation}_wlow_wahi\",  mask=masks[3])\n",
    "        compute_delta_chi2(f\"{param}{param_variation}_whi_wahi\",   mask=masks[3])\n",
    "        compute_delta_chi2(f\"{param}{param_variation}_wlow_walow\", mask=masks[3])\n",
    "        print(\"-----\")"
   ]
  },
  {
   "cell_type": "code",
   "execution_count": null,
   "metadata": {},
   "outputs": [],
   "source": []
  }
 ],
 "metadata": {
  "kernelspec": {
   "display_name": "cocoa",
   "language": "python",
   "name": "python3"
  },
  "language_info": {
   "codemirror_mode": {
    "name": "ipython",
    "version": 3
   },
   "file_extension": ".py",
   "mimetype": "text/x-python",
   "name": "python",
   "nbconvert_exporter": "python",
   "pygments_lexer": "ipython3",
   "version": "3.10.17"
  }
 },
 "nbformat": 4,
 "nbformat_minor": 2
}
