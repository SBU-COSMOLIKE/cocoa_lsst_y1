{
 "cells": [
  {
   "cell_type": "code",
   "execution_count": 1,
   "metadata": {},
   "outputs": [],
   "source": [
    "import numpy as np\n",
    "import matplotlib.pyplot as plt"
   ]
  },
  {
   "cell_type": "code",
   "execution_count": 2,
   "metadata": {},
   "outputs": [],
   "source": [
    "# Load covariance matrix\n",
    "cov_data = np.loadtxt(\"lsst_y1_cov\")\n",
    "# Parsing cov data\n",
    "dv_length = 1560//2\n",
    "cov = np.zeros((dv_length, dv_length))\n",
    "for line in cov_data:\n",
    "    i = int(line[0])\n",
    "    j = int(line[1])\n",
    "    if i < dv_length and j < dv_length:\n",
    "        cov[i,j] = line[8] + line[9]\n",
    "        cov[j,i] = cov[i,j]\n",
    "invcov = np.linalg.inv(cov)\n",
    "# Loading angular scale cuts\n",
    "masks = {}\n",
    "for i in range(1, 7):\n",
    "    masks[i]= np.loadtxt(f\"lsst_y1_M{i}_GGLOLAP0.05.mask\", unpack=True, usecols=(1,), )[:dv_length]"
   ]
  },
  {
   "cell_type": "code",
   "execution_count": 3,
   "metadata": {},
   "outputs": [],
   "source": [
    "def compute_delta_chi2(cosmo=\"desi2cmbpanplus\", mask=None):\n",
    "    cola_dv = np.loadtxt(f\"cola_{cosmo}.modelvector\", usecols=1, max_rows=780)\n",
    "    ee2_dv = np.loadtxt(f\"ee2_{cosmo}.modelvector\", usecols=1, max_rows=780)\n",
    "    diff = cola_dv - ee2_dv\n",
    "    # Compute chi-squared\n",
    "    if mask is not None: diff = diff*mask\n",
    "    chi2 = np.dot(diff, np.dot(invcov, diff))\n",
    "    print(f\"Cosmology {cosmo}: \\Delta \\chi^2 = {chi2}\")"
   ]
  },
  {
   "cell_type": "code",
   "execution_count": 4,
   "metadata": {},
   "outputs": [
    {
     "name": "stdout",
     "output_type": "stream",
     "text": [
      "Cosmology ee2ref: \\Delta \\chi^2 = 0.0006632988021168525\n",
      "Cosmology desi2cmbpanplus: \\Delta \\chi^2 = 3.2795783820069877\n"
     ]
    }
   ],
   "source": [
    "compute_delta_chi2(\"ee2ref\")\n",
    "compute_delta_chi2(\"desi2cmbpanplus\")"
   ]
  },
  {
   "cell_type": "markdown",
   "metadata": {},
   "source": [
    "Lesson: at EE2REF cosmology, $\\Delta\\chi^2 = 6\\times 10^{-4}$. We need to focus on cosmologies away from LCDM!"
   ]
  },
  {
   "cell_type": "code",
   "execution_count": 60,
   "metadata": {},
   "outputs": [
    {
     "name": "stdout",
     "output_type": "stream",
     "text": [
      "Cosmology Omega_mhi_whi_walow: \\Delta \\chi^2 = 0.05436969535438241\n",
      "Cosmology Omega_mhi_wlow_wahi: \\Delta \\chi^2 = 0.22727838256242722\n",
      "Cosmology Omega_mhi_whi_wahi: \\Delta \\chi^2 = 0.2850700654358556\n",
      "Cosmology Omega_mhi_wlow_walow: \\Delta \\chi^2 = 1.7386956651423753\n",
      "-----\n",
      "Cosmology Omega_mlow_whi_walow: \\Delta \\chi^2 = 0.05207104182883727\n",
      "Cosmology Omega_mlow_wlow_wahi: \\Delta \\chi^2 = 0.03145366740101016\n",
      "Cosmology Omega_mlow_whi_wahi: \\Delta \\chi^2 = 0.9796903081134208\n",
      "Cosmology Omega_mlow_wlow_walow: \\Delta \\chi^2 = 0.23596001051025342\n",
      "-----\n",
      "Cosmology Ashi_whi_walow: \\Delta \\chi^2 = 0.048417490862251215\n",
      "Cosmology Ashi_wlow_wahi: \\Delta \\chi^2 = 0.06723531417252787\n",
      "Cosmology Ashi_whi_wahi: \\Delta \\chi^2 = 0.6182426475500158\n",
      "Cosmology Ashi_wlow_walow: \\Delta \\chi^2 = 0.7149758766430461\n",
      "-----\n",
      "Cosmology Aslow_whi_walow: \\Delta \\chi^2 = 0.017114255712461494\n",
      "Cosmology Aslow_wlow_wahi: \\Delta \\chi^2 = 0.019527862771323984\n",
      "Cosmology Aslow_whi_wahi: \\Delta \\chi^2 = 0.26159373256426643\n",
      "Cosmology Aslow_wlow_walow: \\Delta \\chi^2 = 0.20162935889610994\n",
      "-----\n",
      "Cosmology nshi_whi_walow: \\Delta \\chi^2 = 0.01732657344286572\n",
      "Cosmology nshi_wlow_wahi: \\Delta \\chi^2 = 0.030887430381442472\n",
      "Cosmology nshi_whi_wahi: \\Delta \\chi^2 = 0.12125878279217556\n",
      "Cosmology nshi_wlow_walow: \\Delta \\chi^2 = 0.16407362207711512\n",
      "-----\n",
      "Cosmology nslow_whi_walow: \\Delta \\chi^2 = 0.039100551431646105\n",
      "Cosmology nslow_wlow_wahi: \\Delta \\chi^2 = 0.03944705955463674\n",
      "Cosmology nslow_whi_wahi: \\Delta \\chi^2 = 0.9491746681501297\n",
      "Cosmology nslow_wlow_walow: \\Delta \\chi^2 = 0.6239169089485985\n",
      "-----\n"
     ]
    }
   ],
   "source": [
    "for param in [\"Omega_m\", \"As\", \"ns\"]:\n",
    "    for param_variation in [\"hi\", \"low\"]:\n",
    "        compute_delta_chi2(f\"{param}{param_variation}_whi_walow\",  mask=masks[3])\n",
    "        compute_delta_chi2(f\"{param}{param_variation}_wlow_wahi\",  mask=masks[3])\n",
    "        compute_delta_chi2(f\"{param}{param_variation}_whi_wahi\",   mask=masks[3])\n",
    "        compute_delta_chi2(f\"{param}{param_variation}_wlow_walow\", mask=masks[3])\n",
    "        print(\"-----\")"
   ]
  },
  {
   "cell_type": "code",
   "execution_count": 7,
   "metadata": {},
   "outputs": [
    {
     "name": "stdout",
     "output_type": "stream",
     "text": [
      "Cosmology Omega_mhi_whi_walow: \\Delta \\chi^2 = 0.3111230574254581\n",
      "Cosmology Omega_mhi_wlow_wahi: \\Delta \\chi^2 = 1.0995013866866021\n",
      "Cosmology Omega_mhi_whi_wahi: \\Delta \\chi^2 = 3.0374440869528097\n",
      "Cosmology Omega_mhi_wlow_walow: \\Delta \\chi^2 = 1.6108647278942096\n",
      "-----\n",
      "Cosmology Omega_mlow_whi_walow: \\Delta \\chi^2 = 0.00282525867908232\n",
      "Cosmology Omega_mlow_wlow_wahi: \\Delta \\chi^2 = 0.06096074650901858\n",
      "Cosmology Omega_mlow_whi_wahi: \\Delta \\chi^2 = 0.15642860479200546\n",
      "Cosmology Omega_mlow_wlow_walow: \\Delta \\chi^2 = 0.3779120828264751\n",
      "-----\n",
      "Cosmology Ashi_whi_walow: \\Delta \\chi^2 = 0.029324466132134068\n",
      "Cosmology Ashi_wlow_wahi: \\Delta \\chi^2 = 0.3607009444172573\n",
      "Cosmology Ashi_whi_wahi: \\Delta \\chi^2 = 1.730126318041963\n",
      "Cosmology Ashi_wlow_walow: \\Delta \\chi^2 = 0.40132973059015686\n",
      "-----\n",
      "Cosmology Aslow_whi_walow: \\Delta \\chi^2 = 0.03442893779571295\n",
      "Cosmology Aslow_wlow_wahi: \\Delta \\chi^2 = 0.3018854425034973\n",
      "Cosmology Aslow_whi_wahi: \\Delta \\chi^2 = 0.3196750019120009\n",
      "Cosmology Aslow_wlow_walow: \\Delta \\chi^2 = 0.5515495382561018\n",
      "-----\n",
      "Cosmology nshi_whi_walow: \\Delta \\chi^2 = 0.04413368897967236\n",
      "Cosmology nshi_wlow_wahi: \\Delta \\chi^2 = 0.3298948955414528\n",
      "Cosmology nshi_whi_wahi: \\Delta \\chi^2 = 1.3706395624693166\n",
      "Cosmology nshi_wlow_walow: \\Delta \\chi^2 = 1.0060229848300544\n",
      "-----\n",
      "Cosmology nslow_whi_walow: \\Delta \\chi^2 = 0.03198773720814999\n",
      "Cosmology nslow_wlow_wahi: \\Delta \\chi^2 = 0.39273728979474437\n",
      "Cosmology nslow_whi_wahi: \\Delta \\chi^2 = 0.829583609700593\n",
      "Cosmology nslow_wlow_walow: \\Delta \\chi^2 = 0.6207168801310791\n",
      "-----\n"
     ]
    }
   ],
   "source": [
    "for param in [\"Omega_m\", \"As\", \"ns\"]:\n",
    "    for param_variation in [\"hi\", \"low\"]:\n",
    "        compute_delta_chi2(f\"{param}{param_variation}_whi_walow\",  mask=masks[2])\n",
    "        compute_delta_chi2(f\"{param}{param_variation}_wlow_wahi\",  mask=masks[2])\n",
    "        compute_delta_chi2(f\"{param}{param_variation}_whi_wahi\",   mask=masks[2])\n",
    "        compute_delta_chi2(f\"{param}{param_variation}_wlow_walow\", mask=masks[2])\n",
    "        print(\"-----\")"
   ]
  },
  {
   "cell_type": "code",
   "execution_count": null,
   "metadata": {},
   "outputs": [],
   "source": []
  }
 ],
 "metadata": {
  "kernelspec": {
   "display_name": "cocoa",
   "language": "python",
   "name": "python3"
  },
  "language_info": {
   "codemirror_mode": {
    "name": "ipython",
    "version": 3
   },
   "file_extension": ".py",
   "mimetype": "text/x-python",
   "name": "python",
   "nbconvert_exporter": "python",
   "pygments_lexer": "ipython3",
   "version": "3.10.14"
  }
 },
 "nbformat": 4,
 "nbformat_minor": 2
}
