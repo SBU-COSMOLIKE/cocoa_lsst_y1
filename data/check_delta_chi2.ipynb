{
 "cells": [
  {
   "cell_type": "code",
   "execution_count": 2,
   "metadata": {},
   "outputs": [],
   "source": [
    "import numpy as np\n",
    "import matplotlib.pyplot as plt"
   ]
  },
  {
   "cell_type": "code",
   "execution_count": 3,
   "metadata": {},
   "outputs": [],
   "source": [
    "# Load covariance matrix\n",
    "cov_data = np.loadtxt(\"lsst_y1_cov\")\n",
    "# Parsing cov data\n",
    "dv_length = 1560//2\n",
    "cov = np.zeros((dv_length, dv_length))\n",
    "for line in cov_data:\n",
    "    i = int(line[0])\n",
    "    j = int(line[1])\n",
    "    if i < dv_length and j < dv_length:\n",
    "        cov[i,j] = line[8] + line[9]\n",
    "        cov[j,i] = cov[i,j]\n",
    "invcov = np.linalg.inv(cov)\n",
    "# Loading angular scale cuts\n",
    "masks = {}\n",
    "for i in range(1, 7):\n",
    "    masks[i]= np.loadtxt(f\"lsst_y1_M{i}_GGLOLAP0.05.mask\", unpack=True, usecols=(1,), )[:dv_length]"
   ]
  },
  {
   "cell_type": "code",
   "execution_count": 5,
   "metadata": {},
   "outputs": [],
   "source": [
    "def compute_delta_chi2(emu1, emu2, cosmo=\"desi2cmbpanplus\", mask=None):\n",
    "    emu1_dv = np.loadtxt(f\"{emu1}_{cosmo}.modelvector\", usecols=1, max_rows=780)\n",
    "    emu2_dv = np.loadtxt(f\"{emu2}_{cosmo}.modelvector\", usecols=1, max_rows=780)\n",
    "    diff = emu1_dv - emu2_dv\n",
    "    # Compute chi-squared\n",
    "    if mask is not None: diff = diff*mask\n",
    "    chi2 = np.dot(diff, np.dot(invcov, diff))\n",
    "    print(f\"Cosmology {cosmo}: $\\Delta \\chi^2 = {chi2:.4f}$\")"
   ]
  },
  {
   "cell_type": "code",
   "execution_count": 4,
   "metadata": {},
   "outputs": [
    {
     "name": "stdout",
     "output_type": "stream",
     "text": [
      "Cosmology ee2ref: \\Delta \\chi^2 = 0.0006632988021168525\n",
      "Cosmology desi2cmbpanplus: \\Delta \\chi^2 = 3.2795783820069877\n"
     ]
    }
   ],
   "source": [
    "compute_delta_chi2(\"ee2ref\")\n",
    "compute_delta_chi2(\"desi2cmbpanplus\")"
   ]
  },
  {
   "cell_type": "markdown",
   "metadata": {},
   "source": [
    "Lesson: at EE2REF cosmology, $\\Delta\\chi^2 = 6\\times 10^{-4}$. We need to focus on cosmologies away from LCDM!"
   ]
  },
  {
   "cell_type": "code",
   "execution_count": 9,
   "metadata": {},
   "outputs": [
    {
     "name": "stdout",
     "output_type": "stream",
     "text": [
      "Cosmology Omega_mhi_whi_walow: $\\Delta \\chi^2 = 0.1597$\n",
      "Cosmology Omega_mhi_wlow_wahi: $\\Delta \\chi^2 = 0.4432$\n",
      "Cosmology Omega_mhi_whi_wahi: $\\Delta \\chi^2 = 0.5063$\n",
      "Cosmology Omega_mhi_wlow_walow: $\\Delta \\chi^2 = 0.7703$\n",
      "##################\n",
      "Cosmology Omega_mlow_whi_walow: $\\Delta \\chi^2 = 0.0013$\n",
      "Cosmology Omega_mlow_wlow_wahi: $\\Delta \\chi^2 = 0.0197$\n",
      "Cosmology Omega_mlow_whi_wahi: $\\Delta \\chi^2 = 0.0461$\n",
      "Cosmology Omega_mlow_wlow_walow: $\\Delta \\chi^2 = 0.0575$\n",
      "##################\n",
      "Cosmology Ashi_whi_walow: $\\Delta \\chi^2 = 0.0092$\n",
      "Cosmology Ashi_wlow_wahi: $\\Delta \\chi^2 = 0.1232$\n",
      "Cosmology Ashi_whi_wahi: $\\Delta \\chi^2 = 0.0587$\n",
      "Cosmology Ashi_wlow_walow: $\\Delta \\chi^2 = 0.1373$\n",
      "##################\n",
      "Cosmology Aslow_whi_walow: $\\Delta \\chi^2 = 0.0155$\n",
      "Cosmology Aslow_wlow_wahi: $\\Delta \\chi^2 = 0.1037$\n",
      "Cosmology Aslow_whi_wahi: $\\Delta \\chi^2 = 0.0763$\n",
      "Cosmology Aslow_wlow_walow: $\\Delta \\chi^2 = 0.0692$\n",
      "##################\n",
      "Cosmology nshi_whi_walow: $\\Delta \\chi^2 = 0.0192$\n",
      "Cosmology nshi_wlow_wahi: $\\Delta \\chi^2 = 0.0920$\n",
      "Cosmology nshi_whi_wahi: $\\Delta \\chi^2 = 0.3097$\n",
      "Cosmology nshi_wlow_walow: $\\Delta \\chi^2 = 0.2137$\n",
      "##################\n",
      "Cosmology nslow_whi_walow: $\\Delta \\chi^2 = 0.0071$\n",
      "Cosmology nslow_wlow_wahi: $\\Delta \\chi^2 = 0.1520$\n",
      "Cosmology nslow_whi_wahi: $\\Delta \\chi^2 = 0.0431$\n",
      "Cosmology nslow_wlow_walow: $\\Delta \\chi^2 = 0.0608$\n",
      "##################\n"
     ]
    }
   ],
   "source": [
    "for param in [\"Omega_m\", \"As\", \"ns\"]:\n",
    "    for param_variation in [\"hi\", \"low\"]:\n",
    "        compute_delta_chi2(\"ee2\", \"colavic\", f\"{param}{param_variation}_whi_walow\",  mask=masks[3])\n",
    "        compute_delta_chi2(\"ee2\", \"colavic\", f\"{param}{param_variation}_wlow_wahi\",  mask=masks[3])\n",
    "        compute_delta_chi2(\"ee2\", \"colavic\", f\"{param}{param_variation}_whi_wahi\",   mask=masks[3])\n",
    "        compute_delta_chi2(\"ee2\", \"colavic\", f\"{param}{param_variation}_wlow_walow\", mask=masks[3])\n",
    "        print(\"##################\")"
   ]
  },
  {
   "cell_type": "code",
   "execution_count": 10,
   "metadata": {},
   "outputs": [
    {
     "name": "stdout",
     "output_type": "stream",
     "text": [
      "Cosmology Omega_mhi_whi_walow: $\\Delta \\chi^2 = 0.0001$\n",
      "Cosmology Omega_mhi_wlow_wahi: $\\Delta \\chi^2 = 0.0000$\n",
      "Cosmology Omega_mhi_whi_wahi: $\\Delta \\chi^2 = 0.0011$\n",
      "Cosmology Omega_mhi_wlow_walow: $\\Delta \\chi^2 = 0.0009$\n",
      "##################\n",
      "Cosmology Omega_mlow_whi_walow: $\\Delta \\chi^2 = 0.0001$\n",
      "Cosmology Omega_mlow_wlow_wahi: $\\Delta \\chi^2 = 0.0002$\n",
      "Cosmology Omega_mlow_whi_wahi: $\\Delta \\chi^2 = 0.0008$\n",
      "Cosmology Omega_mlow_wlow_walow: $\\Delta \\chi^2 = 0.0011$\n",
      "##################\n",
      "Cosmology Ashi_whi_walow: $\\Delta \\chi^2 = 0.0001$\n",
      "Cosmology Ashi_wlow_wahi: $\\Delta \\chi^2 = 0.0002$\n",
      "Cosmology Ashi_whi_wahi: $\\Delta \\chi^2 = 0.0025$\n",
      "Cosmology Ashi_wlow_walow: $\\Delta \\chi^2 = 0.0005$\n",
      "##################\n",
      "Cosmology Aslow_whi_walow: $\\Delta \\chi^2 = 0.0001$\n",
      "Cosmology Aslow_wlow_wahi: $\\Delta \\chi^2 = 0.0000$\n",
      "Cosmology Aslow_whi_wahi: $\\Delta \\chi^2 = 0.0001$\n",
      "Cosmology Aslow_wlow_walow: $\\Delta \\chi^2 = 0.0008$\n",
      "##################\n",
      "Cosmology nshi_whi_walow: $\\Delta \\chi^2 = 0.0000$\n",
      "Cosmology nshi_wlow_wahi: $\\Delta \\chi^2 = 0.0001$\n",
      "Cosmology nshi_whi_wahi: $\\Delta \\chi^2 = 0.0009$\n",
      "Cosmology nshi_wlow_walow: $\\Delta \\chi^2 = 0.0009$\n",
      "##################\n",
      "Cosmology nslow_whi_walow: $\\Delta \\chi^2 = 0.0001$\n",
      "Cosmology nslow_wlow_wahi: $\\Delta \\chi^2 = 0.0002$\n",
      "Cosmology nslow_whi_wahi: $\\Delta \\chi^2 = 0.0015$\n",
      "Cosmology nslow_wlow_walow: $\\Delta \\chi^2 = 0.0011$\n",
      "##################\n"
     ]
    }
   ],
   "source": [
    "for param in [\"Omega_m\", \"As\", \"ns\"]:\n",
    "    for param_variation in [\"hi\", \"low\"]:\n",
    "        compute_delta_chi2(\"cola\", \"colavic\", f\"{param}{param_variation}_whi_walow\",  mask=masks[3])\n",
    "        compute_delta_chi2(\"cola\", \"colavic\", f\"{param}{param_variation}_wlow_wahi\",  mask=masks[3])\n",
    "        compute_delta_chi2(\"cola\", \"colavic\", f\"{param}{param_variation}_whi_wahi\",   mask=masks[3])\n",
    "        compute_delta_chi2(\"cola\", \"colavic\", f\"{param}{param_variation}_wlow_walow\", mask=masks[3])\n",
    "        print(\"##################\")"
   ]
  },
  {
   "cell_type": "code",
   "execution_count": 11,
   "metadata": {},
   "outputs": [
    {
     "name": "stdout",
     "output_type": "stream",
     "text": [
      "Cosmology Omega_mhi_whi_walow: $\\Delta \\chi^2 = 0.1631$\n",
      "Cosmology Omega_mhi_wlow_wahi: $\\Delta \\chi^2 = 0.4479$\n",
      "Cosmology Omega_mhi_whi_wahi: $\\Delta \\chi^2 = 0.4850$\n",
      "Cosmology Omega_mhi_wlow_walow: $\\Delta \\chi^2 = 0.7977$\n",
      "##################\n",
      "Cosmology Omega_mlow_whi_walow: $\\Delta \\chi^2 = 0.0011$\n",
      "Cosmology Omega_mlow_wlow_wahi: $\\Delta \\chi^2 = 0.0219$\n",
      "Cosmology Omega_mlow_whi_wahi: $\\Delta \\chi^2 = 0.0579$\n",
      "Cosmology Omega_mlow_wlow_walow: $\\Delta \\chi^2 = 0.0735$\n",
      "##################\n",
      "Cosmology Ashi_whi_walow: $\\Delta \\chi^2 = 0.0104$\n",
      "Cosmology Ashi_wlow_wahi: $\\Delta \\chi^2 = 0.1281$\n",
      "Cosmology Ashi_whi_wahi: $\\Delta \\chi^2 = 0.0767$\n",
      "Cosmology Ashi_wlow_walow: $\\Delta \\chi^2 = 0.1276$\n",
      "##################\n",
      "Cosmology Aslow_whi_walow: $\\Delta \\chi^2 = 0.0168$\n",
      "Cosmology Aslow_wlow_wahi: $\\Delta \\chi^2 = 0.1047$\n",
      "Cosmology Aslow_whi_wahi: $\\Delta \\chi^2 = 0.0764$\n",
      "Cosmology Aslow_wlow_walow: $\\Delta \\chi^2 = 0.0810$\n",
      "##################\n",
      "Cosmology nshi_whi_walow: $\\Delta \\chi^2 = 0.0204$\n",
      "Cosmology nshi_wlow_wahi: $\\Delta \\chi^2 = 0.0969$\n",
      "Cosmology nshi_whi_wahi: $\\Delta \\chi^2 = 0.3157$\n",
      "Cosmology nshi_wlow_walow: $\\Delta \\chi^2 = 0.2339$\n",
      "##################\n",
      "Cosmology nslow_whi_walow: $\\Delta \\chi^2 = 0.0087$\n",
      "Cosmology nslow_wlow_wahi: $\\Delta \\chi^2 = 0.1579$\n",
      "Cosmology nslow_whi_wahi: $\\Delta \\chi^2 = 0.0545$\n",
      "Cosmology nslow_wlow_walow: $\\Delta \\chi^2 = 0.0577$\n",
      "##################\n"
     ]
    }
   ],
   "source": [
    "for param in [\"Omega_m\", \"As\", \"ns\"]:\n",
    "    for param_variation in [\"hi\", \"low\"]:\n",
    "        compute_delta_chi2(\"cola\", \"ee2\", f\"{param}{param_variation}_whi_walow\",  mask=masks[3])\n",
    "        compute_delta_chi2(\"cola\", \"ee2\", f\"{param}{param_variation}_wlow_wahi\",  mask=masks[3])\n",
    "        compute_delta_chi2(\"cola\", \"ee2\", f\"{param}{param_variation}_whi_wahi\",   mask=masks[3])\n",
    "        compute_delta_chi2(\"cola\", \"ee2\", f\"{param}{param_variation}_wlow_walow\", mask=masks[3])\n",
    "        print(\"##################\")"
   ]
  },
  {
   "cell_type": "code",
   "execution_count": null,
   "metadata": {},
   "outputs": [],
   "source": []
  }
 ],
 "metadata": {
  "kernelspec": {
   "display_name": "cocoa",
   "language": "python",
   "name": "python3"
  },
  "language_info": {
   "codemirror_mode": {
    "name": "ipython",
    "version": 3
   },
   "file_extension": ".py",
   "mimetype": "text/x-python",
   "name": "python",
   "nbconvert_exporter": "python",
   "pygments_lexer": "ipython3",
   "version": "3.10.14"
  }
 },
 "nbformat": 4,
 "nbformat_minor": 2
}
