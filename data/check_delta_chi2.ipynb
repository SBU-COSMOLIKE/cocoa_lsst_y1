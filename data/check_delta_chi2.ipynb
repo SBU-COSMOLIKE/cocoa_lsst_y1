{
 "cells": [
  {
   "cell_type": "code",
   "execution_count": 1,
   "metadata": {},
   "outputs": [],
   "source": [
    "import numpy as np\n",
    "import matplotlib.pyplot as plt"
   ]
  },
  {
   "cell_type": "code",
   "execution_count": 27,
   "metadata": {},
   "outputs": [],
   "source": [
    "# Load covariance matrix\n",
    "cov_data = np.loadtxt(\"lsst_y1_cov\")\n",
    "# Parsing cov data\n",
    "dv_length = 1560//2\n",
    "cov = np.zeros((dv_length, dv_length))\n",
    "for line in cov_data:\n",
    "    i = int(line[0])\n",
    "    j = int(line[1])\n",
    "    if i < dv_length and j < dv_length:\n",
    "        cov[i,j] = line[8] + line[9]\n",
    "        cov[j,i] = cov[i,j]\n",
    "invcov = np.linalg.inv(cov)\n",
    "# Loading angular scale cuts\n",
    "masks = {}\n",
    "for i in range(1, 7):\n",
    "    masks[i]= np.loadtxt(f\"lsst_y1_M{i}_GGLOLAP0.05.mask\", unpack=True, usecols=(1,), )[:dv_length]"
   ]
  },
  {
   "cell_type": "code",
   "execution_count": 6,
   "metadata": {},
   "outputs": [],
   "source": [
    "def compute_delta_chi2(cosmo=\"desi2cmbpanplus\", mask=None):\n",
    "    cola_dv = np.loadtxt(f\"cola_{cosmo}.modelvector\", usecols=1, max_rows=780)\n",
    "    ee2_dv = np.loadtxt(f\"ee2_{cosmo}.modelvector\", usecols=1, max_rows=780)\n",
    "    diff = cola_dv - ee2_dv\n",
    "    # Compute chi-squared\n",
    "    if mask is not None: diff = diff*mask\n",
    "    chi2 = np.dot(diff, np.dot(invcov, diff))\n",
    "    print(f\"Cosmology {cosmo}: \\Delta \\chi^2 = {chi2}\")"
   ]
  },
  {
   "cell_type": "code",
   "execution_count": 7,
   "metadata": {},
   "outputs": [
    {
     "name": "stdout",
     "output_type": "stream",
     "text": [
      "Cosmology ee2ref: \\Delta \\chi^2 = 0.0006632988021168517\n",
      "Cosmology desi2cmbpanplus: \\Delta \\chi^2 = 3.279578382006987\n"
     ]
    }
   ],
   "source": [
    "compute_delta_chi2(\"ee2ref\")\n",
    "compute_delta_chi2(\"desi2cmbpanplus\")"
   ]
  },
  {
   "cell_type": "markdown",
   "metadata": {},
   "source": [
    "Lesson: at EE2REF cosmology, $\\Delta\\chi^2 = 6\\times 10^{-4}$. We need to focus on cosmologies away from LCDM!"
   ]
  },
  {
   "cell_type": "code",
   "execution_count": 51,
   "metadata": {},
   "outputs": [
    {
     "name": "stdout",
     "output_type": "stream",
     "text": [
      "Cosmology Ashi_wlow_walow: \\Delta \\chi^2 = 14.616702120223938\n"
     ]
    }
   ],
   "source": [
    "compute_delta_chi2(\"Ashi_wlow_walow\", mask=masks[1])"
   ]
  },
  {
   "cell_type": "code",
   "execution_count": null,
   "metadata": {},
   "outputs": [],
   "source": []
  }
 ],
 "metadata": {
  "kernelspec": {
   "display_name": "cocoa",
   "language": "python",
   "name": "python3"
  },
  "language_info": {
   "codemirror_mode": {
    "name": "ipython",
    "version": 3
   },
   "file_extension": ".py",
   "mimetype": "text/x-python",
   "name": "python",
   "nbconvert_exporter": "python",
   "pygments_lexer": "ipython3",
   "version": "3.10.17"
  }
 },
 "nbformat": 4,
 "nbformat_minor": 2
}
