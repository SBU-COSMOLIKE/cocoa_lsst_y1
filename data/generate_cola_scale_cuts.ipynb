{
 "cells": [
  {
   "cell_type": "code",
   "execution_count": 3,
   "metadata": {},
   "outputs": [],
   "source": [
    "import numpy as np\n",
    "import matplotlib.pyplot as plt"
   ]
  },
  {
   "cell_type": "code",
   "execution_count": 16,
   "metadata": {},
   "outputs": [],
   "source": [
    "# Load covariance matrix\n",
    "cov_data = np.loadtxt(\"lsst_y1_cov\")\n",
    "# Parsing cov data\n",
    "dv_length = 1560//2\n",
    "cov = np.zeros((dv_length, dv_length))\n",
    "for line in cov_data:\n",
    "    i = int(line[0])\n",
    "    j = int(line[1])\n",
    "    if i < dv_length and j < dv_length:\n",
    "        cov[i,j] = line[8] + line[9]\n",
    "        cov[j,i] = cov[i,j]\n",
    "invcov = np.linalg.inv(cov)"
   ]
  },
  {
   "cell_type": "code",
   "execution_count": 19,
   "metadata": {},
   "outputs": [],
   "source": [
    "def compute_chi2(cosmo=\"desi2cmbpanplus\"):\n",
    "    cola_dv = np.loadtxt(f\"cola_{cosmo}.modelvector\", usecols=1, max_rows=780)\n",
    "    ee2_dv = np.loadtxt(f\"ee2_{cosmo}.modelvector\", usecols=1, max_rows=780)\n",
    "    diff = cola_dv - ee2_dv\n",
    "    # Compute chi-squared\n",
    "    chi2 = np.dot(diff, np.dot(invcov, diff))\n",
    "    print(f\"Cosmology {cosmo}: \\Delta \\chi^2 = {chi2}\") # It's working! It's the same number given in Cobaya evaluate"
   ]
  },
  {
   "cell_type": "code",
   "execution_count": 20,
   "metadata": {},
   "outputs": [
    {
     "name": "stdout",
     "output_type": "stream",
     "text": [
      "Cosmology ee2ref: \\Delta \\chi^2 = 0.19914115436912103\n",
      "Cosmology desi2cmbpanplus: \\Delta \\chi^2 = 0.42176265563132387\n"
     ]
    }
   ],
   "source": [
    "compute_chi2(\"ee2ref\")\n",
    "compute_chi2(\"desi2cmbpanplus\")"
   ]
  },
  {
   "cell_type": "markdown",
   "metadata": {},
   "source": [
    "Lesson: at EE2REF cosmology, $\\Delta\\chi^2 = 0.2$. We need to focus on cosmologies away from LCDM!"
   ]
  },
  {
   "cell_type": "code",
   "execution_count": null,
   "metadata": {},
   "outputs": [],
   "source": []
  }
 ],
 "metadata": {
  "kernelspec": {
   "display_name": "cocoa",
   "language": "python",
   "name": "python3"
  },
  "language_info": {
   "codemirror_mode": {
    "name": "ipython",
    "version": 3
   },
   "file_extension": ".py",
   "mimetype": "text/x-python",
   "name": "python",
   "nbconvert_exporter": "python",
   "pygments_lexer": "ipython3",
   "version": "3.11.8"
  }
 },
 "nbformat": 4,
 "nbformat_minor": 2
}
